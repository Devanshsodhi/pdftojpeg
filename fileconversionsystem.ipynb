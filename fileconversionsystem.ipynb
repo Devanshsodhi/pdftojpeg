{
 "cells": [
  {
   "cell_type": "code",
   "execution_count": 1,
   "id": "b1e5fbbb",
   "metadata": {},
   "outputs": [
    {
     "name": "stdout",
     "output_type": "stream",
     "text": [
      "Requirement already satisfied: pdf2image in c:\\users\\sodhi\\appdata\\local\\programs\\python\\python311\\lib\\site-packages (1.16.3)\n",
      "Requirement already satisfied: pillow in c:\\users\\sodhi\\appdata\\local\\programs\\python\\python311\\lib\\site-packages (from pdf2image) (10.0.0)\n",
      "Note: you may need to restart the kernel to use updated packages.\n"
     ]
    }
   ],
   "source": [
    "pip install pdf2image"
   ]
  },
  {
   "cell_type": "code",
   "execution_count": 2,
   "id": "51e0a024",
   "metadata": {},
   "outputs": [],
   "source": [
    "import os"
   ]
  },
  {
   "cell_type": "code",
   "execution_count": null,
   "id": "83740686",
   "metadata": {},
   "outputs": [],
   "source": [
    "from pdf2image import convert_from_path\n",
    "import os\n",
    "\n",
    "def convert_pdf_to_jpeg(input_folder, output_folder):\n",
    "    # Get the list of PDF files in the input folder\n",
    "    pdf_files = []\n",
    "    for root, dirs, files in os.walk(input_folder):\n",
    "        for file in files:\n",
    "            if file.endswith('.pdf'):\n",
    "                pdf_files.append(os.path.join(root, file))\n",
    "\n",
    "    # Iterate over each PDF file\n",
    "    for idx, pdf_file in enumerate(pdf_files, start=1):\n",
    "        images = convert_from_path(pdf_file, poppler_path=r\"C:\\Program Files\\poppler-23.07.0\\Library\\bin\")\n",
    "\n",
    "        # Iterate over each page image and save as JPEG\n",
    "        for page_number, image in enumerate(images, start=1):\n",
    "            jpeg_path = os.path.join(output_folder, f'img{idx}_{page_number}.jpeg')\n",
    "            image.save(jpeg_path, 'JPEG')\n",
    "            print(f'Converted page {page_number} of {pdf_file} to JPEG.')\n",
    "\n",
    "    print('PDF to JPEG conversion completed.')\n",
    "\n",
    "# Provide the input folder path\n",
    "input_folder = r'C:\\Users\\sodhi\\Desktop\\foldersystem1\\inputfolder'\n",
    "\n",
    "# Provide the output folder path\n",
    "output_folder = r'C:\\Users\\sodhi\\Desktop\\foldersystem1\\output folder'\n",
    "\n",
    "# Call the function to convert PDF files to JPEG\n",
    "convert_pdf_to_jpeg(input_folder, output_folder)\n"
   ]
  }
 ],
 "metadata": {
  "kernelspec": {
   "display_name": "Python 3 (ipykernel)",
   "language": "python",
   "name": "python3"
  },
  "language_info": {
   "codemirror_mode": {
    "name": "ipython",
    "version": 3
   },
   "file_extension": ".py",
   "mimetype": "text/x-python",
   "name": "python",
   "nbconvert_exporter": "python",
   "pygments_lexer": "ipython3",
   "version": "3.11.4"
  }
 },
 "nbformat": 4,
 "nbformat_minor": 5
}
